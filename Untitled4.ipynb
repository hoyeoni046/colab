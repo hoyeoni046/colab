{
  "nbformat": 4,
  "nbformat_minor": 0,
  "metadata": {
    "colab": {
      "name": "Untitled4.ipynb",
      "provenance": [],
      "authorship_tag": "ABX9TyMkt8uaGSZ0Zh9OCPL2yfrw",
      "include_colab_link": true
    },
    "kernelspec": {
      "name": "python3",
      "display_name": "Python 3"
    },
    "language_info": {
      "name": "python"
    }
  },
  "cells": [
    {
      "cell_type": "markdown",
      "metadata": {
        "id": "view-in-github",
        "colab_type": "text"
      },
      "source": [
        "<a href=\"https://colab.research.google.com/github/hoyeoni046/colab/blob/main/Untitled4.ipynb\" target=\"_parent\"><img src=\"https://colab.research.google.com/assets/colab-badge.svg\" alt=\"Open In Colab\"/></a>"
      ]
    },
    {
      "cell_type": "code",
      "execution_count": 6,
      "metadata": {
        "colab": {
          "base_uri": "https://localhost:8080/"
        },
        "id": "oxf6-A6Iw8s2",
        "outputId": "6f158566-f1f0-4f15-9e7b-ed9601eb9669"
      },
      "outputs": [
        {
          "output_type": "stream",
          "name": "stdout",
          "text": [
            "파운드를 입력하세요 : 15\n",
            "15.0 파운드는 6.804 킬로크램입니다.\n",
            "킬로그램을 입력하세요15\n",
            "15.0 킬로그램은 33.069 파운드입니다\n"
          ]
        }
      ],
      "source": [
        "pound = float(input(\"파운드를 입력하세요 : \"))\n",
        "kg = pound * 0.453592\n",
        "print(pound, \"파운드는\", round(kg, 3), \"킬로크램입니다.\")\n",
        "kg = float(input(\"킬로그램을 입력하세요\"))\n",
        "pound = kg * 2.204623\n",
        "print(kg, \"킬로그램은\", round(pound, 3), \"파운드입니다\")"
      ]
    }
  ]
}