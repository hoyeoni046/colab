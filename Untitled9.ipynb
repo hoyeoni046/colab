{
  "nbformat": 4,
  "nbformat_minor": 0,
  "metadata": {
    "colab": {
      "provenance": [],
      "authorship_tag": "ABX9TyPthxITx8qVO59oTHfpbGdc",
      "include_colab_link": true
    },
    "kernelspec": {
      "name": "python3",
      "display_name": "Python 3"
    },
    "language_info": {
      "name": "python"
    }
  },
  "cells": [
    {
      "cell_type": "markdown",
      "metadata": {
        "id": "view-in-github",
        "colab_type": "text"
      },
      "source": [
        "<a href=\"https://colab.research.google.com/github/hoyeoni046/colab/blob/main/Untitled9.ipynb\" target=\"_parent\"><img src=\"https://colab.research.google.com/assets/colab-badge.svg\" alt=\"Open In Colab\"/></a>"
      ]
    },
    {
      "cell_type": "code",
      "execution_count": 1,
      "metadata": {
        "colab": {
          "base_uri": "https://localhost:8080/"
        },
        "id": "xbHZ_oLVIiYC",
        "outputId": "61322bd9-3a10-4f2b-81f8-afaa0a6bccc9"
      },
      "outputs": [
        {
          "output_type": "stream",
          "name": "stdout",
          "text": [
            "안산공고 컴퓨터과 최고\n",
            "하이\n",
            "안산공고 컴퓨터과 최고\n",
            "하이\n",
            "안산공고 컴퓨터과 최고\n",
            "하이\n"
          ]
        }
      ],
      "source": [
        "for i in range(3) :\n",
        "  print(\"안산공고 컴퓨터과 최고\")\n",
        "  print(\"하이\")"
      ]
    },
    {
      "cell_type": "code",
      "source": [
        "myList = ['가위', '바위', '보']\n",
        "\n",
        "for i in myList:\n",
        "    print(i)"
      ],
      "metadata": {
        "colab": {
          "base_uri": "https://localhost:8080/"
        },
        "id": "AMtd7a84Pge3",
        "outputId": "7b136b3d-bb6e-43c0-ee35-cd5e505233b0"
      },
      "execution_count": 2,
      "outputs": [
        {
          "output_type": "stream",
          "name": "stdout",
          "text": [
            "가위\n",
            "바위\n",
            "보\n"
          ]
        }
      ]
    },
    {
      "cell_type": "code",
      "source": [
        "f = 1\n",
        "\n",
        "for i in range(2, 6):\n",
        "    f *= i;\n",
        "\n",
        "print(f)"
      ],
      "metadata": {
        "colab": {
          "base_uri": "https://localhost:8080/"
        },
        "id": "p9iVjcwfMc-f",
        "outputId": "0ebedef9-fd3e-49c3-c0a7-d51c4708b06c"
      },
      "execution_count": 3,
      "outputs": [
        {
          "output_type": "stream",
          "name": "stdout",
          "text": [
            "120\n"
          ]
        }
      ]
    },
    {
      "cell_type": "code",
      "source": [
        "hap = 0\n",
        "\n",
        "for i in range(1, 11):\n",
        "    hap += i\n",
        "\n",
        "print(hap)"
      ],
      "metadata": {
        "colab": {
          "base_uri": "https://localhost:8080/"
        },
        "id": "S40ZXye9PvKe",
        "outputId": "3030ca20-2bdb-463b-ee4c-bb4e77a6b417"
      },
      "execution_count": 4,
      "outputs": [
        {
          "output_type": "stream",
          "name": "stdout",
          "text": [
            "55\n"
          ]
        }
      ]
    },
    {
      "cell_type": "code",
      "source": [
        "result = 0\n",
        "\n",
        "for i in range(1001, 2001, 2):\n",
        "    result += i\n",
        "\n",
        "print(result)"
      ],
      "metadata": {
        "colab": {
          "base_uri": "https://localhost:8080/"
        },
        "id": "sfHVedC6Pv-u",
        "outputId": "27a8c75b-5d14-4ec8-b2b0-6b7c61a7e60c"
      },
      "execution_count": 5,
      "outputs": [
        {
          "output_type": "stream",
          "name": "stdout",
          "text": [
            "750000\n"
          ]
        }
      ]
    },
    {
      "cell_type": "code",
      "source": [
        "for i in range(3):\n",
        "    for j in range(2):\n",
        "        print(f\"난생처음은 쉽습니다. ^^ (i값: {i}, k값: {j})\")"
      ],
      "metadata": {
        "colab": {
          "base_uri": "https://localhost:8080/"
        },
        "id": "oR1xRzmOUp_V",
        "outputId": "eb8100f3-3a91-49e6-c603-21c32045c708"
      },
      "execution_count": 6,
      "outputs": [
        {
          "output_type": "stream",
          "name": "stdout",
          "text": [
            "난생처음은 쉽습니다. ^^ (i값: 0, k값: 0)\n",
            "난생처음은 쉽습니다. ^^ (i값: 0, k값: 1)\n",
            "난생처음은 쉽습니다. ^^ (i값: 1, k값: 0)\n",
            "난생처음은 쉽습니다. ^^ (i값: 1, k값: 1)\n",
            "난생처음은 쉽습니다. ^^ (i값: 2, k값: 0)\n",
            "난생처음은 쉽습니다. ^^ (i값: 2, k값: 1)\n"
          ]
        }
      ]
    },
    {
      "cell_type": "code",
      "source": [
        "for i in range(2, 10):\n",
        "    for j in range(2, 10):\n",
        "        print(f\"{i} x {j} = {i * j}\")\n",
        "    print()"
      ],
      "metadata": {
        "colab": {
          "base_uri": "https://localhost:8080/"
        },
        "id": "zgvSNkepUsGm",
        "outputId": "3bf18314-3552-488c-9e41-c6052a2ba9e8"
      },
      "execution_count": 7,
      "outputs": [
        {
          "output_type": "stream",
          "name": "stdout",
          "text": [
            "2 x 2 = 4\n",
            "2 x 3 = 6\n",
            "2 x 4 = 8\n",
            "2 x 5 = 10\n",
            "2 x 6 = 12\n",
            "2 x 7 = 14\n",
            "2 x 8 = 16\n",
            "2 x 9 = 18\n",
            "\n",
            "3 x 2 = 6\n",
            "3 x 3 = 9\n",
            "3 x 4 = 12\n",
            "3 x 5 = 15\n",
            "3 x 6 = 18\n",
            "3 x 7 = 21\n",
            "3 x 8 = 24\n",
            "3 x 9 = 27\n",
            "\n",
            "4 x 2 = 8\n",
            "4 x 3 = 12\n",
            "4 x 4 = 16\n",
            "4 x 5 = 20\n",
            "4 x 6 = 24\n",
            "4 x 7 = 28\n",
            "4 x 8 = 32\n",
            "4 x 9 = 36\n",
            "\n",
            "5 x 2 = 10\n",
            "5 x 3 = 15\n",
            "5 x 4 = 20\n",
            "5 x 5 = 25\n",
            "5 x 6 = 30\n",
            "5 x 7 = 35\n",
            "5 x 8 = 40\n",
            "5 x 9 = 45\n",
            "\n",
            "6 x 2 = 12\n",
            "6 x 3 = 18\n",
            "6 x 4 = 24\n",
            "6 x 5 = 30\n",
            "6 x 6 = 36\n",
            "6 x 7 = 42\n",
            "6 x 8 = 48\n",
            "6 x 9 = 54\n",
            "\n",
            "7 x 2 = 14\n",
            "7 x 3 = 21\n",
            "7 x 4 = 28\n",
            "7 x 5 = 35\n",
            "7 x 6 = 42\n",
            "7 x 7 = 49\n",
            "7 x 8 = 56\n",
            "7 x 9 = 63\n",
            "\n",
            "8 x 2 = 16\n",
            "8 x 3 = 24\n",
            "8 x 4 = 32\n",
            "8 x 5 = 40\n",
            "8 x 6 = 48\n",
            "8 x 7 = 56\n",
            "8 x 8 = 64\n",
            "8 x 9 = 72\n",
            "\n",
            "9 x 2 = 18\n",
            "9 x 3 = 27\n",
            "9 x 4 = 36\n",
            "9 x 5 = 45\n",
            "9 x 6 = 54\n",
            "9 x 7 = 63\n",
            "9 x 8 = 72\n",
            "9 x 9 = 81\n",
            "\n"
          ]
        }
      ]
    },
    {
      "cell_type": "code",
      "source": [
        "i = 0\n",
        "\n",
        "while i < 3:\n",
        "    print(i, \"난생처음 파이썬은 재미있습니다.\")\n",
        "    i += 1"
      ],
      "metadata": {
        "colab": {
          "base_uri": "https://localhost:8080/"
        },
        "id": "-0wnc8hzVE2s",
        "outputId": "33d7ed7e-fe6a-4ea8-c4ac-e719496f7048"
      },
      "execution_count": 8,
      "outputs": [
        {
          "output_type": "stream",
          "name": "stdout",
          "text": [
            "0 난생처음 파이썬은 재미있습니다.\n",
            "1 난생처음 파이썬은 재미있습니다.\n",
            "2 난생처음 파이썬은 재미있습니다.\n"
          ]
        }
      ]
    },
    {
      "cell_type": "code",
      "source": [
        "hap = 0\n",
        "n1 = 0\n",
        "n2 = 0\n",
        "\n",
        "while 1:\n",
        "    n1 = int(input(\"숫자1 ==> \"))\n",
        "\n",
        "    if n1 == 0:\n",
        "        break\n",
        "\n",
        "    n2 = int(input(\"숫자2 ==> \"))\n",
        "\n",
        "    hap = n1 + n2\n",
        "\n",
        "    print(f\"{n1} + {n2} = {n1 + n2}\")\n",
        "    print()"
      ],
      "metadata": {
        "colab": {
          "base_uri": "https://localhost:8080/"
        },
        "id": "6xG2kQwAWogc",
        "outputId": "c755b2c9-19f9-45f7-baba-0da5d88bf2d4"
      },
      "execution_count": 9,
      "outputs": [
        {
          "name": "stdout",
          "output_type": "stream",
          "text": [
            "숫자1 ==> 132\n",
            "숫자2 ==> 132\n",
            "132 + 132 = 264\n",
            "\n",
            "숫자1 ==> 132\n",
            "숫자2 ==> 132\n",
            "132 + 132 = 264\n",
            "\n",
            "숫자1 ==> 0\n"
          ]
        }
      ]
    },
    {
      "cell_type": "code",
      "source": [
        "import random\n",
        "\n",
        "cnt = 0\n",
        "\n",
        "while 1:\n",
        "    d1 = random.randint(1, 6)\n",
        "    d2 = random.randint(1, 6)\n",
        "    d3 = random.randint(1, 6)\n",
        "\n",
        "    cnt += 1\n",
        "\n",
        "    if d1 == d2 == d3:\n",
        "        print(f\"3개의 주사위는 모두 {d1}입니다.\")\n",
        "        print(f\"같은 숫자가 나오기까지 {cnt}번 던졌습니다.\")\n",
        "        break"
      ],
      "metadata": {
        "colab": {
          "base_uri": "https://localhost:8080/"
        },
        "id": "x6xWfhKZYsZE",
        "outputId": "753a3d37-a823-4529-ca83-6e7f562ecfc9"
      },
      "execution_count": 18,
      "outputs": [
        {
          "output_type": "stream",
          "name": "stdout",
          "text": [
            "3개의 주사위는 모두 3입니다.\n",
            "같은 숫자가 나오기까지 56번 던졌습니다.\n"
          ]
        }
      ]
    },
    {
      "cell_type": "code",
      "source": [
        "import random\n",
        "\n",
        "i = 1\n",
        "\n",
        "while i < 11:\n",
        "    com = random.randint(1, 5)\n",
        "\n",
        "    try:\n",
        "        n = int(input(f\"게임 {i}회: 컴퓨터가 생각한 숫자는?\\n>>\"))\n",
        "    except ValueError:\n",
        "        continue\n",
        "\n",
        "    if com == n:\n",
        "        print(\"맞췄네요. 축하합니다!!\")\n",
        "        break\n",
        "    else:\n",
        "        print(f\"아까워요.. {com}였는데요. 다시 해보세요. ㅠ\\n\")\n",
        "        i += 1\n",
        "    \n",
        "    if i == 10:\n",
        "        print(\"\")"
      ],
      "metadata": {
        "colab": {
          "base_uri": "https://localhost:8080/"
        },
        "id": "clFpOwvBdHS2",
        "outputId": "69927b2e-9983-415a-c6cc-fa99661d3285"
      },
      "execution_count": 19,
      "outputs": [
        {
          "output_type": "stream",
          "name": "stdout",
          "text": [
            "게임 1회: 컴퓨터가 생각한 숫자는?\n",
            ">>3\n",
            "아까워요.. 1였는데요. 다시 해보세요. ㅠ\n",
            "\n",
            "게임 2회: 컴퓨터가 생각한 숫자는?\n",
            ">>2\n",
            "맞췄네요. 축하합니다!!\n"
          ]
        }
      ]
    }
  ]
}