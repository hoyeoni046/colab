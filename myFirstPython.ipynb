{
  "nbformat": 4,
  "nbformat_minor": 0,
  "metadata": {
    "colab": {
      "name": "myFirstPython.ipynb",
      "provenance": [],
      "authorship_tag": "ABX9TyPUpz3N7AXB0rqXop5+oWaJ",
      "include_colab_link": true
    },
    "kernelspec": {
      "name": "python3",
      "display_name": "Python 3"
    },
    "language_info": {
      "name": "python"
    }
  },
  "cells": [
    {
      "cell_type": "markdown",
      "metadata": {
        "id": "view-in-github",
        "colab_type": "text"
      },
      "source": [
        "<a href=\"https://colab.research.google.com/github/hoyeoni046/colab/blob/main/myFirstPython.ipynb\" target=\"_parent\"><img src=\"https://colab.research.google.com/assets/colab-badge.svg\" alt=\"Open In Colab\"/></a>"
      ]
    },
    {
      "cell_type": "markdown",
      "source": [
        "나의 첫 파이썬 프로그래밍"
      ],
      "metadata": {
        "id": "znDGtgmcPJia"
      }
    },
    {
      "cell_type": "code",
      "execution_count": 1,
      "metadata": {
        "colab": {
          "base_uri": "https://localhost:8080/"
        },
        "id": "8Iymd13wOweO",
        "outputId": "8eacaf40-1af8-4db7-b065-7ad2ca5a35a0"
      },
      "outputs": [
        {
          "output_type": "stream",
          "name": "stdout",
          "text": [
            "안녕~ 파이썬!!\n"
          ]
        }
      ],
      "source": [
        "print(\"안녕~ 파이썬!!\")"
      ]
    },
    {
      "cell_type": "code",
      "source": [
        "print(\"컴퓨터과 3학년 2반 이호연\")"
      ],
      "metadata": {
        "colab": {
          "base_uri": "https://localhost:8080/"
        },
        "id": "DL6SaeJ2PaBT",
        "outputId": "5e5c1dd6-159e-4e90-d2fd-6b382fee5217"
      },
      "execution_count": 2,
      "outputs": [
        {
          "output_type": "stream",
          "name": "stdout",
          "text": [
            "컴퓨터과 3학년 2반 이호연\n"
          ]
        }
      ]
    }
  ]
}