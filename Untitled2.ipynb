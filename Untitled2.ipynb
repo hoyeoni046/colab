{
  "nbformat": 4,
  "nbformat_minor": 0,
  "metadata": {
    "colab": {
      "name": "Untitled2.ipynb",
      "provenance": [],
      "authorship_tag": "ABX9TyP5/MefFFoB5cln5RuxSF6b",
      "include_colab_link": true
    },
    "kernelspec": {
      "name": "python3",
      "display_name": "Python 3"
    },
    "language_info": {
      "name": "python"
    }
  },
  "cells": [
    {
      "cell_type": "markdown",
      "metadata": {
        "id": "view-in-github",
        "colab_type": "text"
      },
      "source": [
        "<a href=\"https://colab.research.google.com/github/hoyeoni046/colab/blob/main/Untitled2.ipynb\" target=\"_parent\"><img src=\"https://colab.research.google.com/assets/colab-badge.svg\" alt=\"Open In Colab\"/></a>"
      ]
    },
    {
      "cell_type": "markdown",
      "source": [
        "*파이썬 2장\n",
        " **변수와 input()함수"
      ],
      "metadata": {
        "id": "GD2NR62yB4C9"
      }
    },
    {
      "cell_type": "code",
      "execution_count": 1,
      "metadata": {
        "id": "xSrCLSf1BGkU"
      },
      "outputs": [],
      "source": [
        "a = 100\n",
        "b = 200\n",
        "\n",
        "result = a + b\n",
        "result = a - b\n",
        "result = a / b\n",
        "result = a * b"
      ]
    },
    {
      "cell_type": "markdown",
      "source": [
        "간단한 계산기 예제"
      ],
      "metadata": {
        "id": "cXESzgTzEGsb"
      }
    },
    {
      "cell_type": "code",
      "source": [
        "num1 = 100\n",
        "num2 = 200\n",
        "\n",
        "result1 = num1 + num2\n",
        "result2 = num1 - num2\n",
        "result3 = num1 / num2\n",
        "result4 = num1 * num2\n",
        "print(num1, \"+\", num2, \"=\", result1)\n",
        "print(num1, \"-\", num2, \"=\", result2)\n",
        "print(num1, \"/\", num2, \"=\", result3)\n",
        "print(num1, \"*\", num2, \"=\", result4)"
      ],
      "metadata": {
        "id": "_t3S6IOkELD1"
      },
      "execution_count": null,
      "outputs": []
    },
    {
      "cell_type": "markdown",
      "source": [
        "input()함수 예제"
      ],
      "metadata": {
        "id": "393C7R6CGfq0"
      }
    },
    {
      "cell_type": "code",
      "source": [
        "num1 = input(\"첫번째 숫자 입력 ==>\")\n",
        "num2 = int(input(\"두번째 숫자 입력 ==>\"))\n",
        "result = int(num1) + num2\n",
        "print (num1, \"+\", num2, \"=\", result)\n"
      ],
      "metadata": {
        "colab": {
          "base_uri": "https://localhost:8080/"
        },
        "id": "XnmaxCQwGkUL",
        "outputId": "96e26030-3fed-4210-ba8d-f7049d92227e"
      },
      "execution_count": 3,
      "outputs": [
        {
          "output_type": "stream",
          "name": "stdout",
          "text": [
            "첫번째 숫자 입력 ==>100\n",
            "두번째 숫자 입력 ==>200\n",
            "100 + 200 = 300\n"
          ]
        }
      ]
    },
    {
      "cell_type": "markdown",
      "source": [
        ""
      ],
      "metadata": {
        "id": "xGQY6R7vJQYZ"
      }
    },
    {
      "cell_type": "code",
      "source": [
        "print(\"** 논술형 문재 - input()함수를 이용한 간단한 계산기 **\")\n",
        "num1 = float(input(\"첫번째 숫자 입력 : \"))\n",
        "num2 = float(input(\"두번째 숫자 입력 : \"))\n",
        "print (num1, \"+\", num2, \"=\", num1 + num2)\n",
        "print (num1, \"-\", num2, \"=\", num1 - num2)\n",
        "print (num1, \"/\", num2, \"=\", num1 * num2)\n",
        "print (num1, \"*\", num2, \"=\", num1 / num2)"
      ],
      "metadata": {
        "colab": {
          "base_uri": "https://localhost:8080/"
        },
        "id": "uk2qsmZZIyCh",
        "outputId": "5cb65118-755e-4903-9da5-b4d0435a048c"
      },
      "execution_count": 9,
      "outputs": [
        {
          "output_type": "stream",
          "name": "stdout",
          "text": [
            "** 논술형 문재 - input()함수를 이용한 간단한 계산기 **\n",
            "첫번째 숫자 입력 : 100\n",
            "두번째 숫자 입력 : 200\n",
            "100.0 + 200.0 = 300.0\n",
            "100.0 - 200.0 = -100.0\n",
            "100.0 / 200.0 = 20000.0\n",
            "100.0 * 200.0 = 0.5\n"
          ]
        }
      ]
    }
  ]
}