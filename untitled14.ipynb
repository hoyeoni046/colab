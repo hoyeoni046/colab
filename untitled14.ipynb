{
  "nbformat": 4,
  "nbformat_minor": 0,
  "metadata": {
    "colab": {
      "provenance": [],
      "authorship_tag": "ABX9TyOJB1FhcvvoJj13GoJafciv",
      "include_colab_link": true
    },
    "kernelspec": {
      "name": "python3",
      "display_name": "Python 3"
    },
    "language_info": {
      "name": "python"
    }
  },
  "cells": [
    {
      "cell_type": "markdown",
      "metadata": {
        "id": "view-in-github",
        "colab_type": "text"
      },
      "source": [
        "<a href=\"https://colab.research.google.com/github/hoyeoni046/colab/blob/main/untitled14.ipynb\" target=\"_parent\"><img src=\"https://colab.research.google.com/assets/colab-badge.svg\" alt=\"Open In Colab\"/></a>"
      ]
    },
    {
      "cell_type": "code",
      "source": [
        "x=int(input(\"정수 x=\"))\n",
        "\n",
        "if(x%2==1):\n",
        "    print(\"홀수입니다.\")\n",
        "else:\n",
        "    print(\"짝수입니다.\")"
      ],
      "metadata": {
        "colab": {
          "base_uri": "https://localhost:8080/"
        },
        "id": "PbAY375deW-l",
        "outputId": "5bca252d-5ce2-48be-970c-13b4e3e9a505"
      },
      "execution_count": null,
      "outputs": [
        {
          "output_type": "stream",
          "name": "stdout",
          "text": [
            "정수 x=1234\n",
            "짝수입니다.\n"
          ]
        }
      ]
    },
    {
      "cell_type": "code",
      "source": [
        "score = int(input(\"시험점수 :\"))\n",
        "\n",
        "if score >=90: #90점 이상이면\n",
        "    grade = \"A\" #grade 변수는 a\n",
        "elif score >=80:\n",
        "    grade = \"B\"\n",
        "elif score >=70:\n",
        "    grade = \"C\"\n",
        "elif score >=60:\n",
        "    grade = \"D\"\n",
        "else:\n",
        "    grade = \"F\"\n",
        "\n",
        "print(grade)"
      ],
      "metadata": {
        "colab": {
          "base_uri": "https://localhost:8080/"
        },
        "id": "shIHVp3le9x8",
        "outputId": "1066423f-1b3d-4c12-d820-fe8d6fc03941"
      },
      "execution_count": null,
      "outputs": [
        {
          "output_type": "stream",
          "name": "stdout",
          "text": [
            "시험점수 :65\n",
            "D\n"
          ]
        }
      ]
    },
    {
      "cell_type": "code",
      "source": [
        "import random\n",
        "\n",
        "sel = ['가위', '바위', '보']\n",
        "result = {0: '승리했습니다.', 1: '패배했습니다.', 2: '비겼습니다.'}\n",
        "\n",
        "def checkWin(user, com):\n",
        "\n",
        "    if not user in sel:\n",
        "       print('잘못입력하였습니다. 다시 입력하세요')\n",
        "       return False\n",
        "\n",
        "    print(f'사용자 ( {user} vs {com} ) 컴퓨터')\n",
        "    if user == com:\n",
        "        state = 2\n",
        "    elif user == '가위' and com == '바위':\n",
        "        state = 1\n",
        "    elif user == '바위' and com == '보':\n",
        "        state = 1\n",
        "    elif user == '보' and com == '가위':\n",
        "        state = 1\n",
        "    else:\n",
        "        state = 0\n",
        "    print(result[state])\n",
        "    return True\n",
        "\n",
        "    print('\\n-------------------------------------------')\n",
        "while True:\n",
        "    user = input(\"가위, 바위, 보 : \")\n",
        "    com = sel[random.randint(0, 2)]\n",
        "    if checkWin(user, com):\n",
        "        break\n",
        "print('-------------------------------------------\\n')"
      ],
      "metadata": {
        "colab": {
          "base_uri": "https://localhost:8080/"
        },
        "id": "up23EVYNiHTd",
        "outputId": "8edaed40-eef1-4b1e-887c-b652d3752cf9"
      },
      "execution_count": null,
      "outputs": [
        {
          "output_type": "stream",
          "name": "stdout",
          "text": [
            "가위, 바위, 보 : 보\n",
            "사용자 ( 보 vs 보 ) 컴퓨터\n",
            "비겼습니다.\n",
            "-------------------------------------------\n",
            "\n"
          ]
        }
      ]
    }
  ]
}