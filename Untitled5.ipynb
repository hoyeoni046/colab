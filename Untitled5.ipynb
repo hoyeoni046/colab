{
  "nbformat": 4,
  "nbformat_minor": 0,
  "metadata": {
    "colab": {
      "name": "Untitled5.ipynb",
      "provenance": [],
      "authorship_tag": "ABX9TyNsbP4mI433KjU6IjEgRgFg",
      "include_colab_link": true
    },
    "kernelspec": {
      "name": "python3",
      "display_name": "Python 3"
    },
    "language_info": {
      "name": "python"
    }
  },
  "cells": [
    {
      "cell_type": "markdown",
      "metadata": {
        "id": "view-in-github",
        "colab_type": "text"
      },
      "source": [
        "<a href=\"https://colab.research.google.com/github/hoyeoni046/colab/blob/main/Untitled5.ipynb\" target=\"_parent\"><img src=\"https://colab.research.google.com/assets/colab-badge.svg\" alt=\"Open In Colab\"/></a>"
      ]
    },
    {
      "cell_type": "code",
      "execution_count": 4,
      "metadata": {
        "colab": {
          "base_uri": "https://localhost:8080/"
        },
        "id": "YpgBQvu9a5_S",
        "outputId": "5e62df9f-d419-4683-9d91-bd2b4b8ad2ca"
      },
      "outputs": [
        {
          "output_type": "stream",
          "name": "stdout",
          "text": [
            "var1 변수의 데이터 타입은  <class 'int'>\n",
            "var2 변수의 데이터 타입은  <class 'float'>\n",
            "var3 변수의 데이터 타입은  <class 'str'>\n",
            "var4 변수의 데이터 타입은  <class 'bool'>\n"
          ]
        }
      ],
      "source": [
        "var1 = 100\n",
        "var2 = 3.14\n",
        "var3 = \"안산공고\"\n",
        "var4 = True\n",
        "print(\"var1 변수의 데이터 타입은 \", type(var1))\n",
        "print(\"var2 변수의 데이터 타입은 \", type(var2))\n",
        "print(\"var3 변수의 데이터 타입은 \", type(var3))\n",
        "print(\"var4 변수의 데이터 타입은 \", type(var4))\n"
      ]
    },
    {
      "cell_type": "code",
      "source": [
        "print(\"\\n줄바꿈\\n연습 \")\n",
        "print(\"\\t탭키\\t연습 \")\n",
        "print(\"어떤 글자를 \\\"강조\\\"하는 효과1\")\n",
        "print(\"어떤 글자를 \\'강조\\'하는 효과2\")\n",
        "print(\"\\\\\\\\ 백슬래시 2개 출력\")"
      ],
      "metadata": {
        "colab": {
          "base_uri": "https://localhost:8080/"
        },
        "id": "A77sWHl5eOj4",
        "outputId": "789c7eed-fcea-4227-e7ca-b54953cd3a42"
      },
      "execution_count": 8,
      "outputs": [
        {
          "output_type": "stream",
          "name": "stdout",
          "text": [
            "\n",
            "줄바꿈\n",
            "연습 \n",
            "\t탭키\t연습 \n",
            "어떤 글자를 \"강조\"하는 효과1\n",
            "어떤 글자를 '강조'하는 효과2\n",
            "\\\\ 백슬래시 2개 출력\n"
          ]
        }
      ]
    },
    {
      "cell_type": "code",
      "source": [
        "var1 = input(\"첫 번째 문자열 ==>\")\n",
        "var2 = input(\"두 번째 문자열 ==>\")\n",
        "\n",
        "len1 = len(var1)\n",
        "len2 = len(var2)\n",
        "\n",
        "diff = len1 - len2\n",
        "\n",
        "print(\"두 문자열의 길이 차이는\", diff, \"입니다\")"
      ],
      "metadata": {
        "colab": {
          "base_uri": "https://localhost:8080/"
        },
        "id": "8FVOfkKzkPmP",
        "outputId": "3dd4a07a-3a7f-4f32-84af-e9f7ba84b9bc"
      },
      "execution_count": 10,
      "outputs": [
        {
          "output_type": "stream",
          "name": "stdout",
          "text": [
            "첫 번째 문자열 ==>안녕하세요\n",
            "두 번째 문자열 ==>안녕\n",
            "두 문자열의 길이 차이는 3 입니다\n"
          ]
        }
      ]
    },
    {
      "cell_type": "markdown",
      "source": [
        "문자열 함수 예제 len(), upper(), lower(), count(), isupper(), islower()"
      ],
      "metadata": {
        "id": "xqAlRQRoodUl"
      }
    },
    {
      "cell_type": "code",
      "source": [
        "str1 = input(\"문자열 입력 : \")\n",
        "print(\"입력된 문자열의 길이 : \", len(str1))\n",
        "print(\"입력된 문자열을 대문자로 변환 : \", str1.upper())\n",
        "print(\"입력된 문자열을 소문자로 변환 : \", str1.lower())\n",
        "print(\"입력된 문자열 중 ansan은 몇번 나오는지 : \", str1.count(\"ansan\"))\n",
        "print(\"입력된 문자열을 대문자로 변환 : \", str1.isupper())\n",
        "print(\"입력된 문자열을 소문자로 변환 : \", str1.islower())"
      ],
      "metadata": {
        "colab": {
          "base_uri": "https://localhost:8080/"
        },
        "id": "3njL8yOmoZg1",
        "outputId": "5013d5ef-2b5f-42fc-cee8-2f17f5c3c967"
      },
      "execution_count": 16,
      "outputs": [
        {
          "output_type": "stream",
          "name": "stdout",
          "text": [
            "문자열 입력 : Ansan Technical High School, ansan-SI, ansan lake\n",
            "입력된 문자열의 길이 :  49\n",
            "입력된 문자열을 대문자로 변환 :  ANSAN TECHNICAL HIGH SCHOOL, ANSAN-SI, ANSAN LAKE\n",
            "입력된 문자열을 소문자로 변환 :  ansan technical high school, ansan-si, ansan lake\n",
            "입력된 문자열 중 ansan은 몇번 나오는지 :  2\n",
            "입력된 문자열을 대문자로 변환 :  False\n",
            "입력된 문자열을 소문자로 변환 :  False\n"
          ]
        }
      ]
    },
    {
      "cell_type": "code",
      "source": [
        "lyrics = \"\"\"\n",
        "\n",
        "When I find myself in times of trouble\n",
        "Mother Mary comes to me\n",
        "Speaking words of wisdom let it be\n",
        "And in my hour of darkness\n",
        "She is standing right in front of me\n",
        "Speaking words of wisdom let it be\n",
        "Let it be let it be\n",
        "Let it be let it be\n",
        "Whisper words of wisdom let it be\n",
        "And when the broken-hearted people\n",
        "Living in the world agree\n",
        "There will be an answer let it be\n",
        "For though they may be parted\n",
        "There is still a chance that they will see\n",
        "There will be an answer let it be\n",
        "Let it be let it be\n",
        "Let it be let it be\n",
        "Yeah there will be an answer let it be\n",
        "Let it be let it be\n",
        "Let it be let it be\n",
        "Whisper words of wisdom let it be\n",
        "Let it be let it be\n",
        "Ah let it be yeah let it be\n",
        "Whisper words of wisdom let it be\n",
        "And when the night is cloudy\n",
        "There is still a light that shines on me\n",
        "Shine on until tomorrow let it be\n",
        "I wake up to the sound of music\n",
        "Mother Mary comes to me\n",
        "Speaking words of wisdom let it be\n",
        "Let it be let it be\n",
        "Let it be yeah let it be\n",
        "\"\"\"\n",
        "\n",
        "\n",
        "count = lyrics.upper()\n",
        "count = count .count(\"LET IT BE\")\n",
        "print(\"Let it be 는 총\" ,count ,\" 번 나옵니다.\")"
      ],
      "metadata": {
        "colab": {
          "base_uri": "https://localhost:8080/"
        },
        "id": "GwUvKUwFsMLs",
        "outputId": "5cae7244-ea7d-4d98-af55-5b393dfe81e3"
      },
      "execution_count": 22,
      "outputs": [
        {
          "output_type": "stream",
          "name": "stdout",
          "text": [
            "Let it be 는 총 30  번 나옵니다.\n"
          ]
        }
      ]
    },
    {
      "cell_type": "code",
      "source": [
        "myList =[10, 20, 30, \"안산\", \"공고\", \"배트맨\"]\n",
        "#print(myList)\n",
        "print(myList[3])\n",
        "print(myList[2:4])"
      ],
      "metadata": {
        "colab": {
          "base_uri": "https://localhost:8080/"
        },
        "id": "Y12oQ19KxViG",
        "outputId": "b75deb61-b8ed-4cc2-baa4-82258c295224"
      },
      "execution_count": 24,
      "outputs": [
        {
          "output_type": "stream",
          "name": "stdout",
          "text": [
            "안산\n",
            "[30, '안산']\n"
          ]
        }
      ]
    },
    {
      "cell_type": "code",
      "source": [
        "str1 = \"안산공고 컴퓨터과 파이썬 수업\"\n",
        "print(str1[0])\n",
        "print(str1[0:4])\n",
        "print(str1[10:13])\n",
        "print(str1[:14])\n",
        "print(str1[0:])\n",
        "print(str1[-1])"
      ],
      "metadata": {
        "colab": {
          "base_uri": "https://localhost:8080/"
        },
        "id": "YGQoUCZnzPh7",
        "outputId": "95131249-0cc3-47eb-f5d2-53eebee8bc3a"
      },
      "execution_count": 34,
      "outputs": [
        {
          "output_type": "stream",
          "name": "stdout",
          "text": [
            "안\n",
            "안산공고\n",
            "파이썬\n",
            "안산공고 컴퓨터과 파이썬 \n",
            "안산공고 컴퓨터과 파이썬 수업\n",
            "업\n"
          ]
        }
      ]
    },
    {
      "cell_type": "markdown",
      "source": [
        "문자열 거꾸로 출력"
      ],
      "metadata": {
        "id": "I3zmYHPj1X20"
      }
    },
    {
      "cell_type": "code",
      "source": [
        "singer= input(\"가수 이름을 입력 : \")\n",
        "singer_lenght = len(singer)\n",
        "#print(singer_lenght)\n",
        "r_singer= \"\"\n",
        "while singer_lenght > 0 :\n",
        "  r_singer = r_singer + singer[singer_lenght-1]\n",
        "  singer_lenght = singer_lenght -1\n",
        "print(r_singer)"
      ],
      "metadata": {
        "colab": {
          "base_uri": "https://localhost:8080/"
        },
        "id": "wTEsGZOv0ZtV",
        "outputId": "1c0b6410-506f-45c5-dfaa-5ce232648401"
      },
      "execution_count": 40,
      "outputs": [
        {
          "output_type": "stream",
          "name": "stdout",
          "text": [
            "가수 이름을 입력 : 트와이스\n",
            "스이와트\n"
          ]
        }
      ]
    }
  ]
}