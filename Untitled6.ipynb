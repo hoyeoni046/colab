{
  "nbformat": 4,
  "nbformat_minor": 0,
  "metadata": {
    "colab": {
      "name": "Untitled6.ipynb",
      "provenance": [],
      "authorship_tag": "ABX9TyOk7YdlvFsQVt+8PHXIbG7x",
      "include_colab_link": true
    },
    "kernelspec": {
      "name": "python3",
      "display_name": "Python 3"
    },
    "language_info": {
      "name": "python"
    }
  },
  "cells": [
    {
      "cell_type": "markdown",
      "metadata": {
        "id": "view-in-github",
        "colab_type": "text"
      },
      "source": [
        "<a href=\"https://colab.research.google.com/github/hoyeoni046/colab/blob/main/Untitled6.ipynb\" target=\"_parent\"><img src=\"https://colab.research.google.com/assets/colab-badge.svg\" alt=\"Open In Colab\"/></a>"
      ]
    },
    {
      "cell_type": "markdown",
      "source": [
        "컴퓨터과 3학년 2반 19번 이호연"
      ],
      "metadata": {
        "id": "hxS_NFhrEg1u"
      }
    },
    {
      "cell_type": "code",
      "execution_count": 4,
      "metadata": {
        "colab": {
          "base_uri": "https://localhost:8080/"
        },
        "id": "c9P1MlSgEggD",
        "outputId": "acf02e7b-dd1d-478a-84cc-af160922a2a1"
      },
      "outputs": [
        {
          "output_type": "stream",
          "name": "stdout",
          "text": [
            "첫 번째 숫자를 입력하세요 : 100\n",
            "두 번째 숫자를 입력하세요 : 10\n",
            "100 + 10 = 110\n",
            "100 - 10 = 90\n",
            "100 * 10 = 1000\n",
            "100 / 10 = 10.0\n",
            "100 % 10 = 0\n",
            "100 ** 10 = 100000000000000000000\n",
            "100 // 10 = 10.0\n"
          ]
        }
      ],
      "source": [
        "a=int(input(\"첫 번째 숫자를 입력하세요 : \"))\n",
        "b=int(input(\"두 번째 숫자를 입력하세요 : \"))\n",
        "\n",
        "print(a, \"+\", b, \"=\", a+b)\n",
        "print(a, \"-\", b, \"=\", a-b)\n",
        "print(a, \"*\", b, \"=\", a*b)\n",
        "print(a, \"/\", b, \"=\", a/b)\n",
        "print(a, \"%\", b, \"=\", a%b)\n",
        "print(a, \"**\", b, \"=\", a**b)\n",
        "print(a, \"//\", b, \"=\", a/b)"
      ]
    }
  ]
}