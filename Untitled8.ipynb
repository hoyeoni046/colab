{
  "nbformat": 4,
  "nbformat_minor": 0,
  "metadata": {
    "colab": {
      "provenance": [],
      "authorship_tag": "ABX9TyNfehM/dUd0zUlKBYDPIEzB",
      "include_colab_link": true
    },
    "kernelspec": {
      "name": "python3",
      "display_name": "Python 3"
    },
    "language_info": {
      "name": "python"
    }
  },
  "cells": [
    {
      "cell_type": "markdown",
      "metadata": {
        "id": "view-in-github",
        "colab_type": "text"
      },
      "source": [
        "<a href=\"https://colab.research.google.com/github/hoyeoni046/colab/blob/main/Untitled8.ipynb\" target=\"_parent\"><img src=\"https://colab.research.google.com/assets/colab-badge.svg\" alt=\"Open In Colab\"/></a>"
      ]
    },
    {
      "cell_type": "code",
      "execution_count": 2,
      "metadata": {
        "colab": {
          "base_uri": "https://localhost:8080/"
        },
        "id": "zVOjBcSZzlXL",
        "outputId": "b6da6a74-a74d-4fa8-c57c-110cb793f349"
      },
      "outputs": [
        {
          "output_type": "stream",
          "name": "stdout",
          "text": [
            "100보다 작습니다.\n"
          ]
        }
      ],
      "source": [
        "num = 99\n",
        "if num < 100 :\n",
        "  print(\"100보다 작습니다.\")"
      ]
    },
    {
      "cell_type": "code",
      "source": [
        "num = 200\n",
        "if num > 100 :\n",
        "  print(\"100보다\")\n",
        "  print(\"큽니다\")\n",
        "  print(\"프로그램 끝\")"
      ],
      "metadata": {
        "colab": {
          "base_uri": "https://localhost:8080/"
        },
        "id": "0-D8lQfF25Os",
        "outputId": "487db43d-e481-4932-bcbd-137c5c67688d"
      },
      "execution_count": 3,
      "outputs": [
        {
          "output_type": "stream",
          "name": "stdout",
          "text": [
            "100보다\n",
            "큽니다\n",
            "프로그램 끝\n"
          ]
        }
      ]
    },
    {
      "cell_type": "code",
      "source": [
        "num = 200\n",
        "if num < 100 :\n",
        "  print(\"100보다 작군요. \")\n",
        "else :\n",
        "  print(\"100보다 크군요. \")"
      ],
      "metadata": {
        "colab": {
          "base_uri": "https://localhost:8080/"
        },
        "id": "DR6e6qiB4snS",
        "outputId": "3a62053d-4901-44d6-bc3a-cb90102890c0"
      },
      "execution_count": 5,
      "outputs": [
        {
          "output_type": "stream",
          "name": "stdout",
          "text": [
            "100보다 크군요. \n"
          ]
        }
      ]
    },
    {
      "cell_type": "code",
      "source": [
        "mun = int(input(\"숫사를 입력 ==> \"))\n",
        "\n",
        "if num > 100 :\n",
        "  if num < 1000 :\n",
        "    print(\"100보다 크고 1000보다 작군요.\")\n",
        "  else :\n",
        "    print(\"와~ 1000보다 크군요.\")\n",
        "else :\n",
        "  print(\"음~ 100보다 작군요.\")"
      ],
      "metadata": {
        "colab": {
          "base_uri": "https://localhost:8080/"
        },
        "id": "HbssxThX7UGx",
        "outputId": "18073a8c-5aa2-4346-f6c1-ca488a73628f"
      },
      "execution_count": 6,
      "outputs": [
        {
          "output_type": "stream",
          "name": "stdout",
          "text": [
            "숫사를 입력 ==> 543\n",
            "100보다 크고 1000보다 작군요.\n"
          ]
        }
      ]
    },
    {
      "cell_type": "code",
      "source": [
        "score = int(input(\"점수를 입력 ==> \"))\n",
        "\n",
        "if score >= 90:\n",
        "    print(\"A학점입니다.\")\n",
        "else:\n",
        "    if score >= 80:\n",
        "        print(\"B학점입니다.\")\n",
        "    else:\n",
        "        if score >= 70:\n",
        "            print(\"C학점입니다.\")\n",
        "        else:\n",
        "            if score >= 60:\n",
        "                print(\"D학점입니다.\")\n",
        "            else:\n",
        "                print(\"F학점입니다.\")\\"
      ],
      "metadata": {
        "colab": {
          "base_uri": "https://localhost:8080/"
        },
        "id": "93JEC-ix_pAJ",
        "outputId": "9a85cdbf-39b8-4efb-8584-7057de316950"
      },
      "execution_count": 7,
      "outputs": [
        {
          "output_type": "stream",
          "name": "stdout",
          "text": [
            "점수를 입력 ==> 60\n",
            "D학점입니다.\n"
          ]
        }
      ]
    },
    {
      "cell_type": "code",
      "source": [
        "score = int(input(\"점수를 입력 ==> \"))\n",
        "\n",
        "if score >= 90:\n",
        "    print(\"A학점입니다.\")\n",
        "elif score >= 80:\n",
        "    print(\"B학점입니다.\")\n",
        "elif score >= 70:\n",
        "    print(\"C학점입니다.\")\n",
        "elif score >= 60:\n",
        "    print(\"D학점입니다.\")\n",
        "else:\n",
        "    print(\"F학점입니다.\")"
      ],
      "metadata": {
        "colab": {
          "base_uri": "https://localhost:8080/"
        },
        "id": "W9W-QB_kC_-g",
        "outputId": "83dafbd4-53a7-49bd-be04-b12e263d06fc"
      },
      "execution_count": 8,
      "outputs": [
        {
          "output_type": "stream",
          "name": "stdout",
          "text": [
            "점수를 입력 ==> 70\n",
            "C학점입니다.\n"
          ]
        }
      ]
    },
    {
      "cell_type": "code",
      "source": [
        "import random\n",
        "\n",
        "rnd = random. randint(1, 45)\n",
        "lunch = random.choice([\"짜장면\",\"라면\",\"김밥\",\"짬뽕\"])\n",
        "print(rnd, lunch)"
      ],
      "metadata": {
        "colab": {
          "base_uri": "https://localhost:8080/"
        },
        "id": "_SxMNwWBF0-1",
        "outputId": "96e84b6d-235d-4c6e-f4ba-92e9ad1bcc3b"
      },
      "execution_count": 13,
      "outputs": [
        {
          "output_type": "stream",
          "name": "stdout",
          "text": [
            "6 짬뽕\n"
          ]
        }
      ]
    },
    {
      "cell_type": "code",
      "source": [
        "import random\n",
        "\n",
        "comPlayer = random.choice([\"가위\", \"바위\", \"보\"])\n",
        "\n",
        "print(\" ** [가위/바위/보] 게임 ** \")\n",
        "\n",
        "rsp = input(\"[가위/바위/보] 입력 ==> \")\n",
        "\n",
        "print(f\"computer    ==>     {comPlayer}\")\n",
        "\n",
        "if (rsp == \"가위\" and comPlayer == \"보\") or (rsp == \"바위\" and comPlayer == \"가위\") or (rsp == \"보\" and comPlayer == \"바위\"):\n",
        "    print(\"이겼다\")\n",
        "elif rsp == comPlayer:\n",
        "    print(\"비겼다\")\n",
        "else:\n",
        "    print(\"졌다\")\n"
      ],
      "metadata": {
        "colab": {
          "base_uri": "https://localhost:8080/"
        },
        "id": "2tFwq4HcG2Cv",
        "outputId": "82f20e1f-ed14-4c88-f69e-2e0cea983852"
      },
      "execution_count": 14,
      "outputs": [
        {
          "output_type": "stream",
          "name": "stdout",
          "text": [
            " ** [가위/바위/보] 게임 ** \n",
            "[가위/바위/보] 입력 ==> 가위\n",
            "computer    ==>     가위\n",
            "비겼다\n"
          ]
        }
      ]
    },
    {
      "cell_type": "code",
      "source": [],
      "metadata": {
        "id": "wCLWjtsfYKO6"
      },
      "execution_count": null,
      "outputs": []
    }
  ]
}